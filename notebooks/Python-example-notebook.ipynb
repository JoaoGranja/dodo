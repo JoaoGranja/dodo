{
 "cells": [
  {
   "cell_type": "markdown",
   "metadata": {},
   "source": [
    "# Welcome to the NATS project Away Day event!"
   ]
  },
  {
   "cell_type": "markdown",
   "metadata": {},
   "source": [
    "This notebook should help give a guide to the commands that are available to pilots and how to control the aircraft following a command from an Air Traffic Control Officer (ATCO)"
   ]
  },
  {
   "cell_type": "markdown",
   "metadata": {},
   "source": [
    "We will be using the Python package `dodo` which is the programming interface to Bluesky which is an open source simulator being used under the hood. For more details of how the simulator interacts with `bluebird`, a simulator agnostic interface layer developed in house at the Turing, you can have a look at the [Simurgh](https://alan-turing-institute.github.io/simurgh/) project"
   ]
  },
  {
   "cell_type": "markdown",
   "metadata": {},
   "source": [
    "# Playing with `dodo`"
   ]
  },
  {
   "cell_type": "markdown",
   "metadata": {},
   "source": [
    "This notebook works as an introduction to using the `dodo` package in Python (PyDodo)."
   ]
  },
  {
   "cell_type": "markdown",
   "metadata": {},
   "source": [
    "Let's get started by importing `pydodo` and getting information about all the planes in the simulation."
   ]
  },
  {
   "cell_type": "code",
   "execution_count": 1,
   "metadata": {},
   "outputs": [],
   "source": [
    "import pydodo"
   ]
  },
  {
   "cell_type": "code",
   "execution_count": 2,
   "metadata": {},
   "outputs": [
    {
     "data": {
      "text/html": [
       "<div>\n",
       "<style scoped>\n",
       "    .dataframe tbody tr th:only-of-type {\n",
       "        vertical-align: middle;\n",
       "    }\n",
       "\n",
       "    .dataframe tbody tr th {\n",
       "        vertical-align: top;\n",
       "    }\n",
       "\n",
       "    .dataframe thead th {\n",
       "        text-align: right;\n",
       "    }\n",
       "</style>\n",
       "<table border=\"1\" class=\"dataframe\">\n",
       "  <thead>\n",
       "    <tr style=\"text-align: right;\">\n",
       "      <th></th>\n",
       "      <th>type</th>\n",
       "      <th>altitude</th>\n",
       "      <th>ground_speed</th>\n",
       "      <th>latitude</th>\n",
       "      <th>longitude</th>\n",
       "      <th>vertical_speed</th>\n",
       "    </tr>\n",
       "  </thead>\n",
       "  <tbody>\n",
       "    <tr>\n",
       "      <td>BEE770</td>\n",
       "      <td>C550</td>\n",
       "      <td>16998.03</td>\n",
       "      <td>185</td>\n",
       "      <td>51.51020</td>\n",
       "      <td>2.18420</td>\n",
       "      <td>0</td>\n",
       "    </tr>\n",
       "    <tr>\n",
       "      <td>BXI524</td>\n",
       "      <td>B737</td>\n",
       "      <td>37998.69</td>\n",
       "      <td>243</td>\n",
       "      <td>51.50495</td>\n",
       "      <td>-3.33406</td>\n",
       "      <td>0</td>\n",
       "    </tr>\n",
       "    <tr>\n",
       "      <td>VIR841</td>\n",
       "      <td>B737</td>\n",
       "      <td>30997.38</td>\n",
       "      <td>215</td>\n",
       "      <td>51.50692</td>\n",
       "      <td>2.44401</td>\n",
       "      <td>0</td>\n",
       "    </tr>\n",
       "  </tbody>\n",
       "</table>\n",
       "</div>"
      ],
      "text/plain": [
       "        type  altitude  ground_speed  latitude  longitude  vertical_speed\n",
       "BEE770  C550  16998.03           185  51.51020    2.18420               0\n",
       "BXI524  B737  37998.69           243  51.50495   -3.33406               0\n",
       "VIR841  B737  30997.38           215  51.50692    2.44401               0"
      ]
     },
     "execution_count": 2,
     "metadata": {},
     "output_type": "execute_result"
    }
   ],
   "source": [
    "pydodo.all_positions()"
   ]
  },
  {
   "cell_type": "markdown",
   "metadata": {},
   "source": [
    "You should be able to see these planes in Twitcher too, have a look for some of the above..."
   ]
  },
  {
   "cell_type": "markdown",
   "metadata": {},
   "source": [
    "Althought there are a number of functions available to you as pilots, the only command to be used will be: <br> `change_altitude()`"
   ]
  },
  {
   "cell_type": "markdown",
   "metadata": {},
   "source": [
    "First we can try to change the altitude of `BAW655`. To inspect a single aircarft of a given callsign we can use `aircraft_position(aircraft_id)` function. "
   ]
  },
  {
   "cell_type": "markdown",
   "metadata": {},
   "source": [
    "So, if we inspect `BAW655` we see it is at an altitude of ~ 36,000 ft"
   ]
  },
  {
   "cell_type": "code",
   "execution_count": 4,
   "metadata": {},
   "outputs": [
    {
     "data": {
      "text/html": [
       "<div>\n",
       "<style scoped>\n",
       "    .dataframe tbody tr th:only-of-type {\n",
       "        vertical-align: middle;\n",
       "    }\n",
       "\n",
       "    .dataframe tbody tr th {\n",
       "        vertical-align: top;\n",
       "    }\n",
       "\n",
       "    .dataframe thead th {\n",
       "        text-align: right;\n",
       "    }\n",
       "</style>\n",
       "<table border=\"1\" class=\"dataframe\">\n",
       "  <thead>\n",
       "    <tr style=\"text-align: right;\">\n",
       "      <th></th>\n",
       "      <th>type</th>\n",
       "      <th>altitude</th>\n",
       "      <th>ground_speed</th>\n",
       "      <th>latitude</th>\n",
       "      <th>longitude</th>\n",
       "      <th>vertical_speed</th>\n",
       "    </tr>\n",
       "  </thead>\n",
       "  <tbody>\n",
       "    <tr>\n",
       "      <td>VIR841</td>\n",
       "      <td>B737</td>\n",
       "      <td>21998.03</td>\n",
       "      <td>187</td>\n",
       "      <td>51.20393</td>\n",
       "      <td>26.30625</td>\n",
       "      <td>0</td>\n",
       "    </tr>\n",
       "  </tbody>\n",
       "</table>\n",
       "</div>"
      ],
      "text/plain": [
       "        type  altitude  ground_speed  latitude  longitude  vertical_speed\n",
       "VIR841  B737  21998.03           187  51.20393   26.30625               0"
      ]
     },
     "execution_count": 4,
     "metadata": {},
     "output_type": "execute_result"
    }
   ],
   "source": [
    "pydodo.aircraft_position('VIR841')"
   ]
  },
  {
   "cell_type": "markdown",
   "metadata": {},
   "source": [
    "We can instruct it to change to flight level 320 (32,000 ft) by issuing this command: "
   ]
  },
  {
   "cell_type": "code",
   "execution_count": 5,
   "metadata": {},
   "outputs": [
    {
     "data": {
      "text/plain": [
       "True"
      ]
     },
     "execution_count": 5,
     "metadata": {},
     "output_type": "execute_result"
    }
   ],
   "source": [
    "pydodo.change_altitude('VIR841', flight_level=220)"
   ]
  },
  {
   "cell_type": "markdown",
   "metadata": {},
   "source": [
    "Now if we get position the position again, we can see how this is different from the previous table.\n",
    "\n",
    "**NOTE** : this may take some time for a visible effect, the give away that something is happening can be seen with the `vertical_speed` would have clearly changed..."
   ]
  },
  {
   "cell_type": "code",
   "execution_count": 6,
   "metadata": {},
   "outputs": [
    {
     "data": {
      "text/html": [
       "<div>\n",
       "<style scoped>\n",
       "    .dataframe tbody tr th:only-of-type {\n",
       "        vertical-align: middle;\n",
       "    }\n",
       "\n",
       "    .dataframe tbody tr th {\n",
       "        vertical-align: top;\n",
       "    }\n",
       "\n",
       "    .dataframe thead th {\n",
       "        text-align: right;\n",
       "    }\n",
       "</style>\n",
       "<table border=\"1\" class=\"dataframe\">\n",
       "  <thead>\n",
       "    <tr style=\"text-align: right;\">\n",
       "      <th></th>\n",
       "      <th>type</th>\n",
       "      <th>altitude</th>\n",
       "      <th>ground_speed</th>\n",
       "      <th>latitude</th>\n",
       "      <th>longitude</th>\n",
       "      <th>vertical_speed</th>\n",
       "    </tr>\n",
       "  </thead>\n",
       "  <tbody>\n",
       "    <tr>\n",
       "      <td>VIR841</td>\n",
       "      <td>B737</td>\n",
       "      <td>21998.03</td>\n",
       "      <td>187</td>\n",
       "      <td>51.20371</td>\n",
       "      <td>26.32345</td>\n",
       "      <td>0</td>\n",
       "    </tr>\n",
       "  </tbody>\n",
       "</table>\n",
       "</div>"
      ],
      "text/plain": [
       "        type  altitude  ground_speed  latitude  longitude  vertical_speed\n",
       "VIR841  B737  21998.03           187  51.20371   26.32345               0"
      ]
     },
     "execution_count": 6,
     "metadata": {},
     "output_type": "execute_result"
    }
   ],
   "source": [
    "pydodo.aircraft_position('VIR841')"
   ]
  },
  {
   "cell_type": "markdown",
   "metadata": {},
   "source": [
    "Below is how it compares to the other planes"
   ]
  },
  {
   "cell_type": "code",
   "execution_count": 10,
   "metadata": {},
   "outputs": [
    {
     "data": {
      "text/html": [
       "<div>\n",
       "<style scoped>\n",
       "    .dataframe tbody tr th:only-of-type {\n",
       "        vertical-align: middle;\n",
       "    }\n",
       "\n",
       "    .dataframe tbody tr th {\n",
       "        vertical-align: top;\n",
       "    }\n",
       "\n",
       "    .dataframe thead th {\n",
       "        text-align: right;\n",
       "    }\n",
       "</style>\n",
       "<table border=\"1\" class=\"dataframe\">\n",
       "  <thead>\n",
       "    <tr style=\"text-align: right;\">\n",
       "      <th></th>\n",
       "      <th>type</th>\n",
       "      <th>altitude</th>\n",
       "      <th>ground_speed</th>\n",
       "      <th>latitude</th>\n",
       "      <th>longitude</th>\n",
       "      <th>vertical_speed</th>\n",
       "    </tr>\n",
       "  </thead>\n",
       "  <tbody>\n",
       "    <tr>\n",
       "      <td>BAW173</td>\n",
       "      <td>B737</td>\n",
       "      <td>30000.00</td>\n",
       "      <td>364</td>\n",
       "      <td>51.53364</td>\n",
       "      <td>-0.76724</td>\n",
       "      <td>0</td>\n",
       "    </tr>\n",
       "    <tr>\n",
       "      <td>BAW238</td>\n",
       "      <td>A388</td>\n",
       "      <td>35997.38</td>\n",
       "      <td>345</td>\n",
       "      <td>51.53437</td>\n",
       "      <td>1.56709</td>\n",
       "      <td>0</td>\n",
       "    </tr>\n",
       "    <tr>\n",
       "      <td>BAW373</td>\n",
       "      <td>B737</td>\n",
       "      <td>30000.00</td>\n",
       "      <td>364</td>\n",
       "      <td>51.53500</td>\n",
       "      <td>2.03698</td>\n",
       "      <td>0</td>\n",
       "    </tr>\n",
       "    <tr>\n",
       "      <td>BAW438</td>\n",
       "      <td>A388</td>\n",
       "      <td>20000.00</td>\n",
       "      <td>275</td>\n",
       "      <td>51.53372</td>\n",
       "      <td>-2.14685</td>\n",
       "      <td>0</td>\n",
       "    </tr>\n",
       "    <tr>\n",
       "      <td>BAW573</td>\n",
       "      <td>B737</td>\n",
       "      <td>35997.38</td>\n",
       "      <td>393</td>\n",
       "      <td>51.53600</td>\n",
       "      <td>2.68077</td>\n",
       "      <td>0</td>\n",
       "    </tr>\n",
       "    <tr>\n",
       "      <td>BAW655</td>\n",
       "      <td>C550</td>\n",
       "      <td>35869.42</td>\n",
       "      <td>422</td>\n",
       "      <td>51.54019</td>\n",
       "      <td>-6.81702</td>\n",
       "      <td>-7</td>\n",
       "    </tr>\n",
       "  </tbody>\n",
       "</table>\n",
       "</div>"
      ],
      "text/plain": [
       "        type  altitude  ground_speed  latitude  longitude  vertical_speed\n",
       "BAW173  B737  30000.00           364  51.53364   -0.76724               0\n",
       "BAW238  A388  35997.38           345  51.53437    1.56709               0\n",
       "BAW373  B737  30000.00           364  51.53500    2.03698               0\n",
       "BAW438  A388  20000.00           275  51.53372   -2.14685               0\n",
       "BAW573  B737  35997.38           393  51.53600    2.68077               0\n",
       "BAW655  C550  35869.42           422  51.54019   -6.81702              -7"
      ]
     },
     "execution_count": 10,
     "metadata": {},
     "output_type": "execute_result"
    }
   ],
   "source": [
    "pydodo.all_positions()"
   ]
  },
  {
   "cell_type": "markdown",
   "metadata": {},
   "source": [
    "#### Now we have a basic overview of how to control the aircraft, let's play!"
   ]
  },
  {
   "cell_type": "code",
   "execution_count": null,
   "metadata": {},
   "outputs": [],
   "source": []
  }
 ],
 "metadata": {
  "kernelspec": {
   "display_name": "Python 3",
   "language": "python",
   "name": "python3"
  },
  "language_info": {
   "codemirror_mode": {
    "name": "ipython",
    "version": 3
   },
   "file_extension": ".py",
   "mimetype": "text/x-python",
   "name": "python",
   "nbconvert_exporter": "python",
   "pygments_lexer": "ipython3",
   "version": "3.7.4"
  }
 },
 "nbformat": 4,
 "nbformat_minor": 2
}
