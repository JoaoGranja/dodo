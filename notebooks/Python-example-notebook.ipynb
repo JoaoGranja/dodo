{
 "cells": [
  {
   "cell_type": "markdown",
   "metadata": {},
   "source": [
    "# Welcome to the NATS project Away Day event!"
   ]
  },
  {
   "cell_type": "markdown",
   "metadata": {},
   "source": [
    "This notebook should help give a guide to the commands that are available to pilots and how to control the aircraft following a command from an Air Traffic Control Officer (ATCO)"
   ]
  },
  {
   "cell_type": "markdown",
   "metadata": {},
   "source": [
    "We will be using the Python package `dodo` which is the programming interface to Bluesky which is an open source simulator being used under the hood. For more details of how the simulator interacts with `bluebird`, a simulator agnostic interface layer developed in house at the Turing, you can have a look at the [Simurgh](https://alan-turing-institute.github.io/simurgh/) project"
   ]
  },
  {
   "cell_type": "markdown",
   "metadata": {},
   "source": [
    "# Playing with `dodo`"
   ]
  },
  {
   "cell_type": "markdown",
   "metadata": {},
   "source": [
    "This notebook works as an introduction to using the `dodo` package, specifically in Python, for those who would prefer to work in `R`, please use [this](../notebooks/R-example-notebook.ipynb) notebook."
   ]
  },
  {
   "cell_type": "markdown",
   "metadata": {},
   "source": [
    "Let's get started by importing `pydodo` and loading in a \"scenario\" file"
   ]
  },
  {
   "cell_type": "code",
   "execution_count": 1,
   "metadata": {},
   "outputs": [],
   "source": [
    "import pydodo"
   ]
  },
  {
   "cell_type": "markdown",
   "metadata": {},
   "source": [
    "**THIS WILL BE UPLOADED MANUALLY ON THE NATS TEAM SIDE BEHIND THE SCENES**"
   ]
  },
  {
   "cell_type": "code",
   "execution_count": 16,
   "metadata": {},
   "outputs": [
    {
     "data": {
      "text/plain": [
       "True"
      ]
     },
     "execution_count": 16,
     "metadata": {},
     "output_type": "execute_result"
    }
   ],
   "source": [
    "\n",
    "pydodo.simulation_control.create_scenario('./awayday_scenario_1.scn', 'away')"
   ]
  },
  {
   "cell_type": "code",
   "execution_count": 9,
   "metadata": {},
   "outputs": [
    {
     "data": {
      "text/plain": [
       "True"
      ]
     },
     "execution_count": 9,
     "metadata": {},
     "output_type": "execute_result"
    }
   ],
   "source": [
    "pydodo.load_scenario('away')"
   ]
  },
  {
   "cell_type": "markdown",
   "metadata": {},
   "source": [
    "This will have filled the skies with aircraft in your sector. To see the positions of these aircraft, one can run:"
   ]
  },
  {
   "cell_type": "code",
   "execution_count": 10,
   "metadata": {},
   "outputs": [
    {
     "data": {
      "text/html": [
       "<div>\n",
       "<style scoped>\n",
       "    .dataframe tbody tr th:only-of-type {\n",
       "        vertical-align: middle;\n",
       "    }\n",
       "\n",
       "    .dataframe tbody tr th {\n",
       "        vertical-align: top;\n",
       "    }\n",
       "\n",
       "    .dataframe thead th {\n",
       "        text-align: right;\n",
       "    }\n",
       "</style>\n",
       "<table border=\"1\" class=\"dataframe\">\n",
       "  <thead>\n",
       "    <tr style=\"text-align: right;\">\n",
       "      <th></th>\n",
       "      <th>type</th>\n",
       "      <th>altitude</th>\n",
       "      <th>ground_speed</th>\n",
       "      <th>latitude</th>\n",
       "      <th>longitude</th>\n",
       "      <th>vertical_speed</th>\n",
       "    </tr>\n",
       "  </thead>\n",
       "  <tbody>\n",
       "    <tr>\n",
       "      <td>BA1B737</td>\n",
       "      <td>B737</td>\n",
       "      <td>30000.00</td>\n",
       "      <td>384</td>\n",
       "      <td>51.53016</td>\n",
       "      <td>-0.98992</td>\n",
       "      <td>0</td>\n",
       "    </tr>\n",
       "    <tr>\n",
       "      <td>BA2A388</td>\n",
       "      <td>A388</td>\n",
       "      <td>35997.38</td>\n",
       "      <td>366</td>\n",
       "      <td>51.53016</td>\n",
       "      <td>1.77866</td>\n",
       "      <td>0</td>\n",
       "    </tr>\n",
       "    <tr>\n",
       "      <td>BA3B737</td>\n",
       "      <td>B737</td>\n",
       "      <td>30000.00</td>\n",
       "      <td>384</td>\n",
       "      <td>51.53016</td>\n",
       "      <td>2.25960</td>\n",
       "      <td>0</td>\n",
       "    </tr>\n",
       "    <tr>\n",
       "      <td>BA4A388</td>\n",
       "      <td>A388</td>\n",
       "      <td>20000.00</td>\n",
       "      <td>295</td>\n",
       "      <td>51.53016</td>\n",
       "      <td>-2.31661</td>\n",
       "      <td>0</td>\n",
       "    </tr>\n",
       "    <tr>\n",
       "      <td>BA5B737</td>\n",
       "      <td>B737</td>\n",
       "      <td>35997.38</td>\n",
       "      <td>414</td>\n",
       "      <td>51.53016</td>\n",
       "      <td>2.92077</td>\n",
       "      <td>0</td>\n",
       "    </tr>\n",
       "    <tr>\n",
       "      <td>BA6C550</td>\n",
       "      <td>C550</td>\n",
       "      <td>35997.38</td>\n",
       "      <td>443</td>\n",
       "      <td>51.53016</td>\n",
       "      <td>-7.07404</td>\n",
       "      <td>0</td>\n",
       "    </tr>\n",
       "  </tbody>\n",
       "</table>\n",
       "</div>"
      ],
      "text/plain": [
       "         type  altitude  ground_speed  latitude  longitude  vertical_speed\n",
       "BA1B737  B737  30000.00           384  51.53016   -0.98992               0\n",
       "BA2A388  A388  35997.38           366  51.53016    1.77866               0\n",
       "BA3B737  B737  30000.00           384  51.53016    2.25960               0\n",
       "BA4A388  A388  20000.00           295  51.53016   -2.31661               0\n",
       "BA5B737  B737  35997.38           414  51.53016    2.92077               0\n",
       "BA6C550  C550  35997.38           443  51.53016   -7.07404               0"
      ]
     },
     "execution_count": 10,
     "metadata": {},
     "output_type": "execute_result"
    }
   ],
   "source": [
    "pydodo.all_positions()"
   ]
  },
  {
   "cell_type": "markdown",
   "metadata": {},
   "source": [
    "You should be able to see these planes in Twitcher too, have a look for some of the above..."
   ]
  },
  {
   "cell_type": "markdown",
   "metadata": {},
   "source": [
    "Althought there are a number of functions available to you as pilots, the only two commands to be used will be: <br> `change_altitude()`, `change_heading()`, ..."
   ]
  },
  {
   "cell_type": "markdown",
   "metadata": {},
   "source": [
    "The documentation for Pydodo's overall API can be found in `dodo/PyDodo/docs` which can be built locally with: <br>\n",
    "```\n",
    "cd dodo/PyDodo/docs && make clean && make html && open _build/html/index.html\n",
    "```\n",
    "However, since there will be only a handful of commands for controlling the aircraft, the main one of interest will be found in `pydodo.aircraft_control`. "
   ]
  },
  {
   "cell_type": "markdown",
   "metadata": {},
   "source": [
    "##### Let's try some of these controls out now!"
   ]
  },
  {
   "cell_type": "markdown",
   "metadata": {},
   "source": [
    "First we can try to change the altitude of `BA6C550`. A useful set of commands to monitor aircraft can be found in `pydodo.request_position`. To inspect a single aircarft of a given callsign we can use `aircraft_position(aircraft_id)` function. "
   ]
  },
  {
   "cell_type": "markdown",
   "metadata": {},
   "source": [
    "So, if we inspect `BA6C550` we see it is at an altitude of ~ 36,000 ft"
   ]
  },
  {
   "cell_type": "markdown",
   "metadata": {},
   "source": [
    "We can instruct it to change to flight level 320 (32,000 ft) by issuing this command: "
   ]
  },
  {
   "cell_type": "code",
   "execution_count": 11,
   "metadata": {},
   "outputs": [
    {
     "data": {
      "text/plain": [
       "True"
      ]
     },
     "execution_count": 11,
     "metadata": {},
     "output_type": "execute_result"
    }
   ],
   "source": [
    "pydodo.change_altitude('BA6C550', flight_level=320)"
   ]
  },
  {
   "cell_type": "markdown",
   "metadata": {},
   "source": [
    "Now if we get position the position again, we can see how this is different from the previous table.\n",
    "\n",
    "**NOTE** : this may take some time for a visible effect, the give away that something is happening can be seen with the `vertical_speed` would have clearly changed..."
   ]
  },
  {
   "cell_type": "code",
   "execution_count": 14,
   "metadata": {},
   "outputs": [
    {
     "data": {
      "text/html": [
       "<div>\n",
       "<style scoped>\n",
       "    .dataframe tbody tr th:only-of-type {\n",
       "        vertical-align: middle;\n",
       "    }\n",
       "\n",
       "    .dataframe tbody tr th {\n",
       "        vertical-align: top;\n",
       "    }\n",
       "\n",
       "    .dataframe thead th {\n",
       "        text-align: right;\n",
       "    }\n",
       "</style>\n",
       "<table border=\"1\" class=\"dataframe\">\n",
       "  <thead>\n",
       "    <tr style=\"text-align: right;\">\n",
       "      <th></th>\n",
       "      <th>type</th>\n",
       "      <th>altitude</th>\n",
       "      <th>ground_speed</th>\n",
       "      <th>latitude</th>\n",
       "      <th>longitude</th>\n",
       "      <th>vertical_speed</th>\n",
       "    </tr>\n",
       "  </thead>\n",
       "  <tbody>\n",
       "    <tr>\n",
       "      <td>BA6C550</td>\n",
       "      <td>C550</td>\n",
       "      <td>35262.47</td>\n",
       "      <td>350</td>\n",
       "      <td>51.57039</td>\n",
       "      <td>-6.00791</td>\n",
       "      <td>-7</td>\n",
       "    </tr>\n",
       "  </tbody>\n",
       "</table>\n",
       "</div>"
      ],
      "text/plain": [
       "         type  altitude  ground_speed  latitude  longitude  vertical_speed\n",
       "BA6C550  C550  35262.47           350  51.57039   -6.00791              -7"
      ]
     },
     "execution_count": 14,
     "metadata": {},
     "output_type": "execute_result"
    }
   ],
   "source": [
    "pydodo.request_position.aircraft_position('BA6C550')"
   ]
  },
  {
   "cell_type": "markdown",
   "metadata": {},
   "source": [
    "Below is how it compares to the other planes"
   ]
  },
  {
   "cell_type": "code",
   "execution_count": 13,
   "metadata": {},
   "outputs": [
    {
     "data": {
      "text/html": [
       "<div>\n",
       "<style scoped>\n",
       "    .dataframe tbody tr th:only-of-type {\n",
       "        vertical-align: middle;\n",
       "    }\n",
       "\n",
       "    .dataframe tbody tr th {\n",
       "        vertical-align: top;\n",
       "    }\n",
       "\n",
       "    .dataframe thead th {\n",
       "        text-align: right;\n",
       "    }\n",
       "</style>\n",
       "<table border=\"1\" class=\"dataframe\">\n",
       "  <thead>\n",
       "    <tr style=\"text-align: right;\">\n",
       "      <th></th>\n",
       "      <th>type</th>\n",
       "      <th>altitude</th>\n",
       "      <th>ground_speed</th>\n",
       "      <th>latitude</th>\n",
       "      <th>longitude</th>\n",
       "      <th>vertical_speed</th>\n",
       "    </tr>\n",
       "  </thead>\n",
       "  <tbody>\n",
       "    <tr>\n",
       "      <td>BA1B737</td>\n",
       "      <td>B737</td>\n",
       "      <td>30000.00</td>\n",
       "      <td>297</td>\n",
       "      <td>51.54158</td>\n",
       "      <td>-0.12652</td>\n",
       "      <td>0</td>\n",
       "    </tr>\n",
       "    <tr>\n",
       "      <td>BA2A388</td>\n",
       "      <td>A388</td>\n",
       "      <td>35997.38</td>\n",
       "      <td>278</td>\n",
       "      <td>51.54474</td>\n",
       "      <td>0.96253</td>\n",
       "      <td>0</td>\n",
       "    </tr>\n",
       "    <tr>\n",
       "      <td>BA3B737</td>\n",
       "      <td>B737</td>\n",
       "      <td>30000.00</td>\n",
       "      <td>297</td>\n",
       "      <td>51.54712</td>\n",
       "      <td>1.39638</td>\n",
       "      <td>0</td>\n",
       "    </tr>\n",
       "    <tr>\n",
       "      <td>BA4A388</td>\n",
       "      <td>A388</td>\n",
       "      <td>20000.00</td>\n",
       "      <td>208</td>\n",
       "      <td>51.54285</td>\n",
       "      <td>-1.67858</td>\n",
       "      <td>0</td>\n",
       "    </tr>\n",
       "    <tr>\n",
       "      <td>BA5B737</td>\n",
       "      <td>B737</td>\n",
       "      <td>35997.38</td>\n",
       "      <td>326</td>\n",
       "      <td>51.55085</td>\n",
       "      <td>1.98345</td>\n",
       "      <td>0</td>\n",
       "    </tr>\n",
       "    <tr>\n",
       "      <td>BA6C550</td>\n",
       "      <td>C550</td>\n",
       "      <td>35538.06</td>\n",
       "      <td>355</td>\n",
       "      <td>51.56847</td>\n",
       "      <td>-6.06398</td>\n",
       "      <td>-7</td>\n",
       "    </tr>\n",
       "  </tbody>\n",
       "</table>\n",
       "</div>"
      ],
      "text/plain": [
       "         type  altitude  ground_speed  latitude  longitude  vertical_speed\n",
       "BA1B737  B737  30000.00           297  51.54158   -0.12652               0\n",
       "BA2A388  A388  35997.38           278  51.54474    0.96253               0\n",
       "BA3B737  B737  30000.00           297  51.54712    1.39638               0\n",
       "BA4A388  A388  20000.00           208  51.54285   -1.67858               0\n",
       "BA5B737  B737  35997.38           326  51.55085    1.98345               0\n",
       "BA6C550  C550  35538.06           355  51.56847   -6.06398              -7"
      ]
     },
     "execution_count": 13,
     "metadata": {},
     "output_type": "execute_result"
    }
   ],
   "source": [
    "pydodo.all_positions()"
   ]
  },
  {
   "cell_type": "markdown",
   "metadata": {},
   "source": [
    "Say we want to change heading, this is simply `change_heading()` function."
   ]
  },
  {
   "cell_type": "code",
   "execution_count": 15,
   "metadata": {},
   "outputs": [
    {
     "data": {
      "text/plain": [
       "True"
      ]
     },
     "execution_count": 15,
     "metadata": {},
     "output_type": "execute_result"
    }
   ],
   "source": [
    "# Change aircraft id: SCN1003 to move to heading 280 degrees\n",
    "pydodo.aircraft_control.change_heading('BA6C550', 280)"
   ]
  },
  {
   "cell_type": "markdown",
   "metadata": {},
   "source": [
    "#### Now we have a basic overview of how to control the aircraft, let's play!"
   ]
  },
  {
   "cell_type": "code",
   "execution_count": null,
   "metadata": {},
   "outputs": [],
   "source": []
  }
 ],
 "metadata": {
  "kernelspec": {
   "display_name": "Python 3",
   "language": "python",
   "name": "python3"
  },
  "language_info": {
   "codemirror_mode": {
    "name": "ipython",
    "version": 3
   },
   "file_extension": ".py",
   "mimetype": "text/x-python",
   "name": "python",
   "nbconvert_exporter": "python",
   "pygments_lexer": "ipython3",
   "version": "3.6.7"
  }
 },
 "nbformat": 4,
 "nbformat_minor": 2
}
