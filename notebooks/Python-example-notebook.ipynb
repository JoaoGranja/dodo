{
 "cells": [
  {
   "cell_type": "markdown",
   "metadata": {},
   "source": [
    "# Welcome to the NATS project Away Day event!"
   ]
  },
  {
   "cell_type": "markdown",
   "metadata": {},
   "source": [
    "This notebook should help give a guide to the commands that are available to pilots and how to control the aircraft following a command from an Air Traffic Control Officer (ATCO)"
   ]
  },
  {
   "cell_type": "markdown",
   "metadata": {},
   "source": [
    "We will be using the Python package `dodo` which is the programming interface to Bluesky which is an open source simulator being used under the hood. For more details of how the simulator interacts with `bluebird`, a simulator agnostic interface layer developed in house at the Turing, you can have a look at the [Simurgh](https://alan-turing-institute.github.io/simurgh/) project"
   ]
  },
  {
   "cell_type": "markdown",
   "metadata": {},
   "source": [
    "# Playing with `dodo`"
   ]
  },
  {
   "cell_type": "markdown",
   "metadata": {},
   "source": [
    "This notebook works as an introduction to using the `dodo` package, specifically in Python, for those who would prefer to work in `R`, please use [this](../notebooks/R-example-notebook.ipynb) notebook."
   ]
  },
  {
   "cell_type": "markdown",
   "metadata": {},
   "source": [
    "Let's get started by importing `pydodo` and loading in a \"scenario\" file"
   ]
  },
  {
   "cell_type": "code",
   "execution_count": 14,
   "metadata": {},
   "outputs": [],
   "source": [
    "import pydodo"
   ]
  },
  {
   "cell_type": "code",
   "execution_count": null,
   "metadata": {},
   "outputs": [],
   "source": [
    "# The path is relative to bluesky, so it actually looks in bluesky/scenario/8.SCN "
   ]
  },
  {
   "cell_type": "code",
   "execution_count": 20,
   "metadata": {},
   "outputs": [],
   "source": [
    "# This scenario contains the wrong callsigns, this could have implications on the speed"
   ]
  },
  {
   "cell_type": "markdown",
   "metadata": {},
   "source": [
    "```\n",
    "bluesky     | WARNING: Aircraft type: B747 was not found. It is set to A320.\n",
    "bluesky     | WARNING: Aircraft type: B747 was not found. It is set to A320.\n",
    "bluesky     | WARNING: Aircraft type: B747 was not found. It is set to A320.\n",
    "bluesky     | send_multipart: [b'*', b'\\x00\\xa1\\x13\\xd2\\x8c', b'ECHO', b'\\x82\\xa4text\\xb8Unknown command: METRICS\\xa5flags\\x04']\n",
    "```"
   ]
  },
  {
   "cell_type": "code",
   "execution_count": 15,
   "metadata": {},
   "outputs": [
    {
     "data": {
      "text/plain": [
       "True"
      ]
     },
     "execution_count": 15,
     "metadata": {},
     "output_type": "execute_result"
    }
   ],
   "source": [
    "pydodo.load_scenario('8.SCN')"
   ]
  },
  {
   "cell_type": "markdown",
   "metadata": {},
   "source": [
    "This will have filled the skies with aircraft in your sector. To see the positions of these aircraft, one can run:"
   ]
  },
  {
   "cell_type": "code",
   "execution_count": 16,
   "metadata": {},
   "outputs": [
    {
     "data": {
      "text/html": [
       "<div>\n",
       "<style scoped>\n",
       "    .dataframe tbody tr th:only-of-type {\n",
       "        vertical-align: middle;\n",
       "    }\n",
       "\n",
       "    .dataframe tbody tr th {\n",
       "        vertical-align: top;\n",
       "    }\n",
       "\n",
       "    .dataframe thead th {\n",
       "        text-align: right;\n",
       "    }\n",
       "</style>\n",
       "<table border=\"1\" class=\"dataframe\">\n",
       "  <thead>\n",
       "    <tr style=\"text-align: right;\">\n",
       "      <th></th>\n",
       "      <th>type</th>\n",
       "      <th>altitude</th>\n",
       "      <th>ground_speed</th>\n",
       "      <th>latitude</th>\n",
       "      <th>longitude</th>\n",
       "      <th>vertical_speed</th>\n",
       "    </tr>\n",
       "  </thead>\n",
       "  <tbody>\n",
       "    <tr>\n",
       "      <td>SCN1001</td>\n",
       "      <td>B747</td>\n",
       "      <td>20000.00</td>\n",
       "      <td>297</td>\n",
       "      <td>53.80000</td>\n",
       "      <td>2.07017</td>\n",
       "      <td>0</td>\n",
       "    </tr>\n",
       "    <tr>\n",
       "      <td>SCN1002</td>\n",
       "      <td>B747</td>\n",
       "      <td>20000.00</td>\n",
       "      <td>297</td>\n",
       "      <td>51.36655</td>\n",
       "      <td>4.30965</td>\n",
       "      <td>0</td>\n",
       "    </tr>\n",
       "    <tr>\n",
       "      <td>SCN1003</td>\n",
       "      <td>B747</td>\n",
       "      <td>20000.00</td>\n",
       "      <td>297</td>\n",
       "      <td>53.80000</td>\n",
       "      <td>8.27017</td>\n",
       "      <td>0</td>\n",
       "    </tr>\n",
       "    <tr>\n",
       "      <td>SCN1004</td>\n",
       "      <td>B747</td>\n",
       "      <td>20000.00</td>\n",
       "      <td>297</td>\n",
       "      <td>50.15000</td>\n",
       "      <td>8.27251</td>\n",
       "      <td>0</td>\n",
       "    </tr>\n",
       "    <tr>\n",
       "      <td>SCN1005</td>\n",
       "      <td>B747</td>\n",
       "      <td>7998.69</td>\n",
       "      <td>253</td>\n",
       "      <td>51.56503</td>\n",
       "      <td>5.20000</td>\n",
       "      <td>0</td>\n",
       "    </tr>\n",
       "    <tr>\n",
       "      <td>SCN1008</td>\n",
       "      <td>B747</td>\n",
       "      <td>20000.00</td>\n",
       "      <td>297</td>\n",
       "      <td>50.15000</td>\n",
       "      <td>8.27251</td>\n",
       "      <td>0</td>\n",
       "    </tr>\n",
       "  </tbody>\n",
       "</table>\n",
       "</div>"
      ],
      "text/plain": [
       "         type  altitude  ground_speed  latitude  longitude  vertical_speed\n",
       "SCN1001  B747  20000.00           297  53.80000    2.07017               0\n",
       "SCN1002  B747  20000.00           297  51.36655    4.30965               0\n",
       "SCN1003  B747  20000.00           297  53.80000    8.27017               0\n",
       "SCN1004  B747  20000.00           297  50.15000    8.27251               0\n",
       "SCN1005  B747   7998.69           253  51.56503    5.20000               0\n",
       "SCN1008  B747  20000.00           297  50.15000    8.27251               0"
      ]
     },
     "execution_count": 16,
     "metadata": {},
     "output_type": "execute_result"
    }
   ],
   "source": [
    "pydodo.all_positions()"
   ]
  },
  {
   "cell_type": "markdown",
   "metadata": {},
   "source": [
    "You should be able to see these planes in Twitcher too, for example:"
   ]
  },
  {
   "cell_type": "markdown",
   "metadata": {},
   "source": [
    "Althought there are a number of functions available to you as pilots, the only two commands to be used will be: <br> `change_altitude()`, `change_heading()`, ..."
   ]
  },
  {
   "cell_type": "markdown",
   "metadata": {},
   "source": [
    "The documentation for Pydodo's overall API can be found [here](..), however, since there will be only a handful of commands for controlling the aircraft, the main one of interest will be found in `aircraft_control` : file:///Users/tallamjr/PhD/cdt/placement/repos/simurgh/dodo/PyDodo/docs/_build/html/apidoc/aircraft_control.html"
   ]
  },
  {
   "cell_type": "code",
   "execution_count": null,
   "metadata": {},
   "outputs": [],
   "source": []
  },
  {
   "cell_type": "markdown",
   "metadata": {},
   "source": [
    "Let's try some of these controls out now!"
   ]
  },
  {
   "cell_type": "markdown",
   "metadata": {},
   "source": [
    "First we can try to change the altitture of CALLSIGN. Notice from above it was at ----, we can instruct it to change to flight level by issuing this command: "
   ]
  },
  {
   "cell_type": "code",
   "execution_count": 17,
   "metadata": {},
   "outputs": [
    {
     "data": {
      "text/plain": [
       "True"
      ]
     },
     "execution_count": 17,
     "metadata": {},
     "output_type": "execute_result"
    }
   ],
   "source": [
    "pydodo.change_altitude('SCN1003', 2000)"
   ]
  },
  {
   "cell_type": "markdown",
   "metadata": {},
   "source": [
    "Now if we run get position, we can see how this is different from the previous table."
   ]
  },
  {
   "cell_type": "code",
   "execution_count": 18,
   "metadata": {},
   "outputs": [
    {
     "data": {
      "text/html": [
       "<div>\n",
       "<style scoped>\n",
       "    .dataframe tbody tr th:only-of-type {\n",
       "        vertical-align: middle;\n",
       "    }\n",
       "\n",
       "    .dataframe tbody tr th {\n",
       "        vertical-align: top;\n",
       "    }\n",
       "\n",
       "    .dataframe thead th {\n",
       "        text-align: right;\n",
       "    }\n",
       "</style>\n",
       "<table border=\"1\" class=\"dataframe\">\n",
       "  <thead>\n",
       "    <tr style=\"text-align: right;\">\n",
       "      <th></th>\n",
       "      <th>type</th>\n",
       "      <th>altitude</th>\n",
       "      <th>ground_speed</th>\n",
       "      <th>latitude</th>\n",
       "      <th>longitude</th>\n",
       "      <th>vertical_speed</th>\n",
       "    </tr>\n",
       "  </thead>\n",
       "  <tbody>\n",
       "    <tr>\n",
       "      <td>SCN1001</td>\n",
       "      <td>B747</td>\n",
       "      <td>20000.00</td>\n",
       "      <td>247</td>\n",
       "      <td>53.80000</td>\n",
       "      <td>1.65838</td>\n",
       "      <td>0</td>\n",
       "    </tr>\n",
       "    <tr>\n",
       "      <td>SCN1002</td>\n",
       "      <td>B747</td>\n",
       "      <td>20000.00</td>\n",
       "      <td>247</td>\n",
       "      <td>51.59509</td>\n",
       "      <td>4.44322</td>\n",
       "      <td>0</td>\n",
       "    </tr>\n",
       "    <tr>\n",
       "      <td>SCN1003</td>\n",
       "      <td>B747</td>\n",
       "      <td>18750.00</td>\n",
       "      <td>247</td>\n",
       "      <td>53.80000</td>\n",
       "      <td>7.85838</td>\n",
       "      <td>-7</td>\n",
       "    </tr>\n",
       "    <tr>\n",
       "      <td>SCN1004</td>\n",
       "      <td>B747</td>\n",
       "      <td>20000.00</td>\n",
       "      <td>247</td>\n",
       "      <td>50.15000</td>\n",
       "      <td>7.89296</td>\n",
       "      <td>0</td>\n",
       "    </tr>\n",
       "    <tr>\n",
       "      <td>SCN1005</td>\n",
       "      <td>B747</td>\n",
       "      <td>7998.69</td>\n",
       "      <td>203</td>\n",
       "      <td>51.76901</td>\n",
       "      <td>5.20000</td>\n",
       "      <td>0</td>\n",
       "    </tr>\n",
       "    <tr>\n",
       "      <td>SCN1008</td>\n",
       "      <td>B747</td>\n",
       "      <td>20000.00</td>\n",
       "      <td>247</td>\n",
       "      <td>50.15000</td>\n",
       "      <td>7.89296</td>\n",
       "      <td>0</td>\n",
       "    </tr>\n",
       "  </tbody>\n",
       "</table>\n",
       "</div>"
      ],
      "text/plain": [
       "         type  altitude  ground_speed  latitude  longitude  vertical_speed\n",
       "SCN1001  B747  20000.00           247  53.80000    1.65838               0\n",
       "SCN1002  B747  20000.00           247  51.59509    4.44322               0\n",
       "SCN1003  B747  18750.00           247  53.80000    7.85838              -7\n",
       "SCN1004  B747  20000.00           247  50.15000    7.89296               0\n",
       "SCN1005  B747   7998.69           203  51.76901    5.20000               0\n",
       "SCN1008  B747  20000.00           247  50.15000    7.89296               0"
      ]
     },
     "execution_count": 18,
     "metadata": {},
     "output_type": "execute_result"
    }
   ],
   "source": [
    "pydodo.all_positions()"
   ]
  },
  {
   "cell_type": "markdown",
   "metadata": {},
   "source": [
    "Say we want to change heading, this is simply `change_heading`, now when we do get position again we see how that also changes."
   ]
  },
  {
   "cell_type": "markdown",
   "metadata": {},
   "source": [
    "#### Now we have a basic overview of how to control the aircraft, let's play!"
   ]
  },
  {
   "cell_type": "markdown",
   "metadata": {},
   "source": [
    "Shall we reset simulation at this point and load in another scenario file? \n",
    "\n",
    "Maybe we could do this by ssh-ing into the VM and running python on there. If this is possible then we could also do things like adding the jet crafts at a random point etc (assuming the override of autopilot and speeds is possible)"
   ]
  }
 ],
 "metadata": {
  "kernelspec": {
   "display_name": "Python 3",
   "language": "python",
   "name": "python3"
  },
  "language_info": {
   "codemirror_mode": {
    "name": "ipython",
    "version": 3
   },
   "file_extension": ".py",
   "mimetype": "text/x-python",
   "name": "python",
   "nbconvert_exporter": "python",
   "pygments_lexer": "ipython3",
   "version": "3.6.7"
  }
 },
 "nbformat": 4,
 "nbformat_minor": 2
}
